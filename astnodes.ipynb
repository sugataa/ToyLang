{
 "metadata": {
  "name": ""
 },
 "nbformat": 3,
 "nbformat_minor": 0,
 "worksheets": [
  {
   "cells": [
    {
     "cell_type": "heading",
     "level": 1,
     "metadata": {},
     "source": [
      "Abstract Syntax Tree"
     ]
    },
    {
     "cell_type": "markdown",
     "metadata": {},
     "source": [
      "The abstract syntax tree defines a set of nodes which represent an individual semantic component of our language. Each node allows for code generation and for generating a description of the tree and from then on."
     ]
    },
    {
     "cell_type": "markdown",
     "metadata": {},
     "source": [
      "Expression nodes"
     ]
    },
    {
     "cell_type": "code",
     "collapsed": false,
     "input": [
      "import collections"
     ],
     "language": "python",
     "metadata": {},
     "outputs": [],
     "prompt_number": 1
    },
    {
     "cell_type": "markdown",
     "metadata": {},
     "source": [
      "Import LLVM and define the floating point type for later to_value() methods."
     ]
    },
    {
     "cell_type": "code",
     "collapsed": false,
     "input": [
      "import llvm.core as lc\n",
      "float32 = lc.Type.float()"
     ],
     "language": "python",
     "metadata": {},
     "outputs": []
    },
    {
     "cell_type": "code",
     "collapsed": false,
     "input": [
      "class IntegerLiteral(collections.namedtuple('IntegerLiteral', 'value')):\n",
      "    def to_dict(self):\n",
      "        return { 'type': 'IntegerLiteral', 'value': self.value }\n",
      "    \n",
      "    def to_value(self, context):\n",
      "        return lc.Constant.real(float32, self.value)"
     ],
     "language": "python",
     "metadata": {},
     "outputs": [],
     "prompt_number": 2
    },
    {
     "cell_type": "code",
     "collapsed": false,
     "input": [
      "IntegerLiteral(5).to_dict()"
     ],
     "language": "python",
     "metadata": {},
     "outputs": [
      {
       "metadata": {},
       "output_type": "pyout",
       "prompt_number": 3,
       "text": [
        "{'type': 'IntegerLiteral', 'value': 5}"
       ]
      }
     ],
     "prompt_number": 3
    },
    {
     "cell_type": "code",
     "collapsed": false,
     "input": [
      "class UnaryOpExpression(collections.namedtuple('UnaryOpExpression', ('op', 'rhs'))):\n",
      "    def to_dict(self):\n",
      "        return { 'type': 'UnaryOpExpression', 'op': self.op, 'rhs': self.rhs.to_dict() }\n",
      "    \n",
      "    def to_value(self, context):\n",
      "        rhs = self.rhs.to_value(context)\n",
      "        if self.op == '+':\n",
      "            return rhs\n",
      "        elif self.op == '-':\n",
      "            return context.ib.fmul(rhs, lc.Constant.real(float32, -1.0))\n",
      "        else:\n",
      "            raise NotImplementedError()"
     ],
     "language": "python",
     "metadata": {},
     "outputs": [],
     "prompt_number": 4
    },
    {
     "cell_type": "code",
     "collapsed": false,
     "input": [
      "UnaryOpExpression('-', IntegerLiteral(7))"
     ],
     "language": "python",
     "metadata": {},
     "outputs": [
      {
       "metadata": {},
       "output_type": "pyout",
       "prompt_number": 5,
       "text": [
        "UnaryOpExpression(op='-', rhs=IntegerLiteral(value=7))"
       ]
      }
     ],
     "prompt_number": 5
    },
    {
     "cell_type": "code",
     "collapsed": false,
     "input": [
      "UnaryOpExpression('-', IntegerLiteral(7)).to_dict()"
     ],
     "language": "python",
     "metadata": {},
     "outputs": [
      {
       "metadata": {},
       "output_type": "pyout",
       "prompt_number": 10,
       "text": [
        "{'op': '-',\n",
        " 'rhs': {'type': 'IntegerLiteral', 'value': 7},\n",
        " 'type': 'UnaryOpExpression'}"
       ]
      }
     ],
     "prompt_number": 10
    },
    {
     "cell_type": "code",
     "collapsed": false,
     "input": [
      "class BinaryOpExpression(collections.namedtuple('BinaryOpExpression', ('lhs', 'op', 'rhs'))):\n",
      "    def to_dict(self):\n",
      "        return { 'type': 'BinaryOpExpression', 'lhs': self.lhs.to_dict(), 'op': self.op, 'rhs': self.rhs.to_dict() }\n",
      "    \n",
      "    def to_value(self, context):\n",
      "        lhs = self.lhs.to_value(context)\n",
      "        rhs = self.rhs.to_value(context)\n",
      "        if self.op == '+':\n",
      "            return context.ib.fadd(lhs, rhs)\n",
      "        elif self.op == '-':\n",
      "            return context.ib.fsub(lhs, rhs)\n",
      "        elif self.op == '*':\n",
      "            return context.ib.fmul(lhs, rhs)\n",
      "        elif self.op == '/':\n",
      "            return context.ib.fdiv(lhs, rhs)\n",
      "        else:\n",
      "            raise NotImplementedError()"
     ],
     "language": "python",
     "metadata": {},
     "outputs": [],
     "prompt_number": 7
    },
    {
     "cell_type": "code",
     "collapsed": false,
     "input": [
      "BinaryOpExpression(lhs=IntegerLiteral(6), op='-', rhs=IntegerLiteral(7))"
     ],
     "language": "python",
     "metadata": {},
     "outputs": [
      {
       "metadata": {},
       "output_type": "pyout",
       "prompt_number": 8,
       "text": [
        "BinaryOpExpression(lhs=IntegerLiteral(value=6), op='-', rhs=IntegerLiteral(value=7))"
       ]
      }
     ],
     "prompt_number": 8
    },
    {
     "cell_type": "code",
     "collapsed": false,
     "input": [
      "BinaryOpExpression(lhs=IntegerLiteral(6), op='-', rhs=IntegerLiteral(7)).to_dict()"
     ],
     "language": "python",
     "metadata": {},
     "outputs": [
      {
       "metadata": {},
       "output_type": "pyout",
       "prompt_number": 9,
       "text": [
        "{'lhs': {'type': 'IntegerLiteral', 'value': 6},\n",
        " 'op': '-',\n",
        " 'rhs': {'type': 'IntegerLiteral', 'value': 7},\n",
        " 'type': 'BinaryOpExpression'}"
       ]
      }
     ],
     "prompt_number": 9
    },
    {
     "cell_type": "code",
     "collapsed": false,
     "input": [],
     "language": "python",
     "metadata": {},
     "outputs": [],
     "prompt_number": 9
    }
   ],
   "metadata": {}
  }
 ]
}