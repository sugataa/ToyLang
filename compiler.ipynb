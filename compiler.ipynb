{
 "metadata": {
  "name": "compiler"
 }, 
 "nbformat": 2, 
 "worksheets": [
  {
   "cells": [
    {
     "cell_type": "code", 
     "collapsed": false, 
     "input": [
      "from parsing import Expression, TokenStack", 
      "from lexing import lex", 
      "from astnodes import float32"
     ], 
     "language": "python", 
     "outputs": [], 
     "prompt_number": 8
    }, 
    {
     "cell_type": "code", 
     "collapsed": true, 
     "input": [
      "def parse_expression(text):", 
      "    return Expression(TokenStack(lex(text))).node"
     ], 
     "language": "python", 
     "outputs": [], 
     "prompt_number": 2
    }, 
    {
     "cell_type": "code", 
     "collapsed": true, 
     "input": [
      "import llvm.core as lc", 
      "import llvm.ee as lee"
     ], 
     "language": "python", 
     "outputs": [], 
     "prompt_number": 3
    }, 
    {
     "cell_type": "code", 
     "collapsed": true, 
     "input": [
      "class Context(object):", 
      "    def __init__(self, ib):", 
      "        self.ib = ib"
     ], 
     "language": "python", 
     "outputs": [], 
     "prompt_number": 4
    }, 
    {
     "cell_type": "code", 
     "collapsed": true, 
     "input": [
      "def add_expression_function(text, module, name = 'eval_expr'):", 
      "    expr = parse_expression(text)", 
      "    ret_type = lc.Type.float()", 
      "    fun_type = lc.Type.function(ret_type, ())", 
      "    f = module.add_function(fun_type, name)", 
      "    bb = f.append_basic_block('entry')", 
      "    ib = lc.Builder.new(bb)", 
      "    rv = expr.to_value(Context(ib))", 
      "    ib.ret(rv)", 
      "    return f"
     ], 
     "language": "python", 
     "outputs": [], 
     "prompt_number": 5
    }, 
    {
     "cell_type": "code", 
     "collapsed": false, 
     "input": [
      "Expression(TokenStack(lex('4*5+3*(2+1)'))).node"
     ], 
     "language": "python", 
     "outputs": [
      {
       "output_type": "pyout", 
       "prompt_number": 6, 
       "text": [
        "BinaryOpExpression(lhs=BinaryOpExpression(lhs=IntegerLiteral(value=4), op='*', rhs=IntegerLiteral(value=5)), op='+', rhs=BinaryOpExpression(lhs=IntegerLiteral(value=3), op='*', rhs=BinaryOpExpression(lhs=IntegerLiteral(value=2), op='+', rhs=IntegerLiteral(value=1))))"
       ]
      }
     ], 
     "prompt_number": 6
    }, 
    {
     "cell_type": "code", 
     "collapsed": false, 
     "input": [
      "def eval_expression(text):", 
      "    m = lc.Module.new('test')", 
      "    f = add_expression_function(text, m)", 
      "    eb = lee.EngineBuilder.new(m)", 
      "    ee = eb.create()", 
      "    rv = ee.run_function(f, ())", 
      "    return rv.as_real(float32)"
     ], 
     "language": "python", 
     "outputs": [], 
     "prompt_number": 10
    }, 
    {
     "cell_type": "code", 
     "collapsed": false, 
     "input": [
      "eval_expression('((2+5)*2+9) / 2')"
     ], 
     "language": "python", 
     "outputs": [
      {
       "output_type": "pyout", 
       "prompt_number": 16, 
       "text": [
        "11.5"
       ]
      }
     ], 
     "prompt_number": 16
    }, 
    {
     "cell_type": "code", 
     "collapsed": true, 
     "input": [], 
     "language": "python", 
     "outputs": []
    }
   ]
  }
 ]
}